{
 "cells": [
  {
   "cell_type": "markdown",
   "metadata": {},
   "source": [
    "Due to recent events that are impacting the nation, I wanted to create something that mixed what I learned in class and what I am continuing to learn about Black lives being impacted in America. These issues are also becoming topics of conversation in other courses at UCSD and I wanted to produce something I would actually use Python to make. It resulted in creating a Chatbox whose goal is to inform, educate and produce information about the Black Lives Matter Movement in order to create discourse around current issues at hand and honor those that are risking their lives to combat police brutality. It will run through three different topics and provide links to pages that will better inform our users of the movement. Thank you so much! \n",
    "\n",
    "Sources on the information listed:\n",
    "https://plsonline.eku.edu/sites/plsonline.eku.edu/files/the-history-of-policing-in-us.pdf\n",
    "https://www.nytimes.com/2020/05/31/us/george-floyd-investigation.html\n",
    "https://calbudgetcenter.org/all-publications/firstlook_201516statebudget/courts-local-law-enforcement-funding/"
   ]
  },
  {
   "cell_type": "code",
   "execution_count": 54,
   "metadata": {},
   "outputs": [],
   "source": [
    "import string\n",
    "import pytest"
   ]
  },
  {
   "cell_type": "code",
   "execution_count": 55,
   "metadata": {},
   "outputs": [],
   "source": [
    "def canonicalize(input_string):\n",
    "    #make all words lowercase\n",
    "    temp_string = input_string.lower()\n",
    "    #remove punctuation\n",
    "    temp_string = ''.join([x for x in temp_string if x not in string.punctuation])\n",
    "    #put each words into list\n",
    "    out_list = temp_string.split()\n",
    "    return out_list"
   ]
  },
  {
   "cell_type": "code",
   "execution_count": 56,
   "metadata": {},
   "outputs": [],
   "source": [
    "def select_topic(input_string):\n",
    "    #user can select one of three possible topics, or can choose to exit and end chatting\n",
    "    blm_words = set(['black', 'lives', 'matter', 'blm', 'message'])\n",
    "    george_words = set(['murder', 'george', 'floyd'])\n",
    "    police_words = set(['police', 'brutality', 'history'])\n",
    "    exit_words = set(['stop', 'exit', 'quit', 'out'])\n",
    "    \n",
    "    #function to probabilisitically interpret the user's input\n",
    "    def compute_probs(input_string):\n",
    "        input_set = set(input_string)\n",
    "        blm_prob = len(input_set.intersection(blm_words)) / len(blm_words)\n",
    "        george_prob = len(input_set.intersection(george_words)) / len(george_words)\n",
    "        police_prob = len(input_set.intersection(police_words)) / len(police_words)\n",
    "        exit_prob = len(input_set.intersection(exit_words)) / len(exit_words)\n",
    "        output_dict = {'blm': blm_prob, 'gf': george_prob, 'pb': police_prob, 'exit': exit_prob}\n",
    "        return output_dict\n",
    "    \n",
    "    #get probs and max prob\n",
    "    probs = compute_probs(input_string)\n",
    "    #gets key of max value from dictionary\n",
    "    max_prob = max(probs, key=probs.get)\n",
    "    \n",
    "    #checks first to see if user wishes to leave else checks if any responses are likely\n",
    "    if probs['exit'] > 0:\n",
    "        output = 'exit'\n",
    "    elif probs[max_prob] == 0:\n",
    "        output = \"\"\n",
    "    else:\n",
    "        output = max_prob\n",
    "    \n",
    "    return output"
   ]
  },
  {
   "cell_type": "code",
   "execution_count": 57,
   "metadata": {},
   "outputs": [],
   "source": [
    "def said_yes(response):\n",
    "    yes_responses = ['y', 'ye', 'yes', 'yeah', 'yea']\n",
    "    return any([x in yes_responses for x in response])"
   ]
  },
  {
   "cell_type": "code",
   "execution_count": 58,
   "metadata": {},
   "outputs": [],
   "source": [
    "def have_a_chat():\n",
    "    \n",
    "    \"\"\"Main function to run our chatbot.\"\"\"\n",
    "    #George Floyd, Polic Brutality, and BLM Movement, respectively\n",
    "    topics = ['gf', 'pb', 'blm']\n",
    "    #responses to topics\n",
    "    george = \"\\nGeorge Floyd was a 46 year old black man living in Minneapolis. He had an altercation with the police that ended his life. On May 25, 2020 the police were called on a fake bill found at the store. The incident led to Floyd being handcuffed and forced on the ground with officer Derek Chauvin's knee on his neck for 8 minutes and 26 seconds. After repeating that he couldn't breathe, George Floyd died according to an independent autopsy report from asphyxiation. Floyd was a coach, a father, a son and a citizen who had his life taken over a non-threatening alleged issue.\\nUnfortunately, George Floyd is among the thousands of Black lives that are killed every year. Other American citizens like Breonna Taylor and Ahmaud Abery along with countless others who have had their lives ended over police brutality are being advocated to reopen their cases to start a fresh investigation in order to get justice. Would you like to learn more about these stories? \"\n",
    "    history = \"\\nThe history of the modern police originated in the American south from slave patrols whose primary purpose was to in order to 1) chase down, apprehend and return runaway slaves 2) provide a form of organized terror to deter slave revolts and 3) maintain a form of discipline for slaves, if violated any plantation rules. During the Jim Crow era, these police departments developed primarily as means to control freed slaves who were now laborers in the agricultural system. Currently, California has updated their spending plan which adds a $147.5 million increase to the police budget, resulting in excessive militarization of the police force. Due to recent uprisings of American civilians in the peaceful protest of excessive police force on Black lives, the police have been equipped with gear such as tear gas, rubber bullets, armour, batons, shields and water cannons to deter and disband these protesters which have been causing deaths. Would you like to know more about the history of police brutality in the United States? \"\n",
    "    black_lives = \"\\nThis paragraph's source is the Black Lives Matter's website about their movement: '#BlackLivesMatter was founded in 2013 in response to the acquittal of Trayvon Martin’s murderer. Black Lives Matter Foundation, Inc is a global organization in the US, UK, and Canada, whose mission is to eradicate white supremacy and build local power to intervene in violence inflicted on Black communities by the state and vigilantes. By combating and countering acts of violence, creating space for Black imagination and innovation, and centering Black joy, we are winning immediate improvements in our lives.' Would you like to learn more about the Black Lives Matter movement? \"\n",
    "    \n",
    "    topics_dict = {'gf': george, 'pb': history, 'blm': black_lives}\n",
    "    \n",
    "    george_website = \"\\nFor more info, visit https://www.dosomething.org/us/articles/black-lives-taken\"\n",
    "    history_website = \"\\nFor more info, visit https://www.smithsonianmag.com/smithsonian-institution/long-painful-history-police-brutality-in-the-us-180964098/\"\n",
    "    blm_website = \"\\nFor more info, visit https://blacklivesmatter.com/\"\n",
    "    \n",
    "    website_dict = {'gf': george_website, 'pb': history_website, 'blm': blm_website}\n",
    "    \n",
    "    \n",
    "    while len(topics) > 0:\n",
    "        \n",
    "        #initial greeting introducing the topics of discussion\n",
    "        greet = '\\nHello, I am #BLM Bot! I am here to inform you of recent events involving the murder of George Floyd, the history of police brutality and the message of the Black Lives Matter movement. Which would you like to hear about first? '\n",
    "        \n",
    "        # Get a message from the user\n",
    "        msg = input(greet)\n",
    "\n",
    "        # Prepare the input message\n",
    "        msg = canonicalize(msg)\n",
    "        \n",
    "        #select topic from input message\n",
    "        topic = select_topic(msg)\n",
    "        \n",
    "        #if user wants to exit\n",
    "        if topic == 'exit':\n",
    "            break\n",
    "        \n",
    "        #restarts loop because user input was invalid\n",
    "        if not topic or topic not in topics:\n",
    "            print(\"\\nI'm sorry, try another response!\")\n",
    "            continue\n",
    "        \n",
    "        #getting here means input is valid\n",
    "        #removing topic means it can't be selected again\n",
    "        topics.remove(topic)\n",
    "        \n",
    "        #ask new question and get yes/no response\n",
    "        response = canonicalize(input(topics_dict[topic]))\n",
    "        \n",
    "        #if no, ask if they want to continue chatting, else loop restarts\n",
    "        if not said_yes(response):\n",
    "            second_response = canonicalize(input(\"\\nWould you like to learn more about the other topics described? \"))\n",
    "            if said_yes(second_response):\n",
    "                continue\n",
    "            else:\n",
    "                break\n",
    "        else:\n",
    "            print(website_dict[topic])\n",
    "            \n",
    "    print('\\nThank you so much for listening! Here is a link to some petitions you can sign in order raise awareness and importance for other less known cases: https://www.bleumag.com/2020/06/03/30-blm-petitions-you-should-sign-right-now/. Stay safe!')"
   ]
  },
  {
   "cell_type": "code",
   "execution_count": 59,
   "metadata": {},
   "outputs": [
    {
     "name": "stdout",
     "output_type": "stream",
     "text": [
      "\n",
      "Hello, I am #BLM Bot! I am here to inform you of recent events involving the murder of George Floyd, the history of police brutality and the message of the Black Lives Matter movement. Which would you like to hear about first? the history\n",
      "\n",
      "The history of the modern police originated in the American south from slave patrols whose primary purpose was to in order to 1) chase down, apprehend and return runaway slaves 2) provide a form of organized terror to deter slave revolts and 3) maintain a form of discipline for slaves, if violated any plantation rules. During the Jim Crow era, these police departments developed primarily as means to control freed slaves who were now laborers in the agricultural system. Currently, California has updated their spending plan which adds a $147.5 million increase to the police budget, resulting in excessive militarization of the police force. Due to recent uprisings of American civilians in the peaceful protest of excessive police force on Black lives, the police have been equipped with gear such as tear gas, rubber bullets, armour, batons, shields and water cannons to deter and disband these protesters which have been causing deaths. Would you like to know more about the history of police brutality in the United States? no\n",
      "\n",
      "Would you like to learn more about the other topics described? no\n",
      "\n",
      "Thank you so much for listening! Here is a link to some petitions you can sign in order raise awareness and importance for other less known cases: https://www.bleumag.com/2020/06/03/30-blm-petitions-you-should-sign-right-now/. Stay safe!\n"
     ]
    }
   ],
   "source": [
    "have_a_chat()"
   ]
  },
  {
   "cell_type": "markdown",
   "metadata": {},
   "source": []
  },
  {
   "cell_type": "code",
   "execution_count": null,
   "metadata": {},
   "outputs": [],
   "source": []
  }
 ],
 "metadata": {
  "kernelspec": {
   "display_name": "Python 3",
   "language": "python",
   "name": "python3"
  },
  "language_info": {
   "codemirror_mode": {
    "name": "ipython",
    "version": 3
   },
   "file_extension": ".py",
   "mimetype": "text/x-python",
   "name": "python",
   "nbconvert_exporter": "python",
   "pygments_lexer": "ipython3",
   "version": "3.7.6"
  }
 },
 "nbformat": 4,
 "nbformat_minor": 2
}
